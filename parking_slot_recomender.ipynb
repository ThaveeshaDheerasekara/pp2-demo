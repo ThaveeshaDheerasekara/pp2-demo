{
 "cells": [
  {
   "cell_type": "code",
   "execution_count": 45,
   "metadata": {},
   "outputs": [],
   "source": [
    "import pandas as pd \n",
    "from sklearn.tree import DecisionTreeRegressor\n",
    "from sklearn.model_selection import train_test_split\n",
    "from sklearn.metrics import accuracy_score\n",
    "from sklearn.preprocessing import LabelEncoder"
   ]
  },
  {
   "cell_type": "code",
   "execution_count": 46,
   "metadata": {},
   "outputs": [
    {
     "name": "stderr",
     "output_type": "stream",
     "text": [
      "/opt/anaconda3/lib/python3.8/site-packages/IPython/core/interactiveshell.py:3146: DtypeWarning: Columns (22,23) have mixed types.Specify dtype option on import or set low_memory=False.\n",
      "  has_raised = await self.run_ast_nodes(code_ast.body, cell_name,\n"
     ]
    },
    {
     "data": {
      "text/html": [
       "<div>\n",
       "<style scoped>\n",
       "    .dataframe tbody tr th:only-of-type {\n",
       "        vertical-align: middle;\n",
       "    }\n",
       "\n",
       "    .dataframe tbody tr th {\n",
       "        vertical-align: top;\n",
       "    }\n",
       "\n",
       "    .dataframe thead th {\n",
       "        text-align: right;\n",
       "    }\n",
       "</style>\n",
       "<table border=\"1\" class=\"dataframe\">\n",
       "  <thead>\n",
       "    <tr style=\"text-align: right;\">\n",
       "      <th></th>\n",
       "      <th>Elmntkey</th>\n",
       "      <th>Study_Area</th>\n",
       "      <th>Sub_Area</th>\n",
       "      <th>Date Time</th>\n",
       "      <th>Side</th>\n",
       "      <th>Unitdesc</th>\n",
       "      <th>Peak Hour_SDOT</th>\n",
       "      <th>Parking_Spaces</th>\n",
       "      <th>Total_Vehicle_Count</th>\n",
       "      <th>Dp_Count</th>\n",
       "      <th>...</th>\n",
       "      <th>Idling</th>\n",
       "      <th>Field Notes</th>\n",
       "      <th>Construction</th>\n",
       "      <th>Event Closure</th>\n",
       "      <th>Subarea Label</th>\n",
       "      <th>Study Year</th>\n",
       "      <th>Peak Hour? (Yes or No)</th>\n",
       "      <th>RPZ Blocks</th>\n",
       "      <th>CSM</th>\n",
       "      <th>Time Stamp</th>\n",
       "    </tr>\n",
       "  </thead>\n",
       "  <tbody>\n",
       "    <tr>\n",
       "      <th>0</th>\n",
       "      <td>77982.0</td>\n",
       "      <td>South Lake Union</td>\n",
       "      <td>North</td>\n",
       "      <td>9/27/2017 20:00</td>\n",
       "      <td>E</td>\n",
       "      <td>DEXTER AVE N BETWEEN VALLEY ST AND ALOHA ST</td>\n",
       "      <td>NaN</td>\n",
       "      <td>2.0</td>\n",
       "      <td>3.0</td>\n",
       "      <td>NaN</td>\n",
       "      <td>...</td>\n",
       "      <td>NaN</td>\n",
       "      <td>NaN</td>\n",
       "      <td>No</td>\n",
       "      <td>No</td>\n",
       "      <td>South Lake Union (North Subarea)</td>\n",
       "      <td>2017.0</td>\n",
       "      <td>No</td>\n",
       "      <td>0.0</td>\n",
       "      <td>Y</td>\n",
       "      <td>09/27/2017 08:38:00 PM</td>\n",
       "    </tr>\n",
       "    <tr>\n",
       "      <th>1</th>\n",
       "      <td>35881.0</td>\n",
       "      <td>South Lake Union</td>\n",
       "      <td>North</td>\n",
       "      <td>9/27/2017 20:00</td>\n",
       "      <td>N</td>\n",
       "      <td>VALLEY ST BETWEEN DEXTER AVE N AND 8TH AVE N</td>\n",
       "      <td>NaN</td>\n",
       "      <td>15.0</td>\n",
       "      <td>12.0</td>\n",
       "      <td>1.0</td>\n",
       "      <td>...</td>\n",
       "      <td>NaN</td>\n",
       "      <td>NaN</td>\n",
       "      <td>No</td>\n",
       "      <td>No</td>\n",
       "      <td>South Lake Union (North Subarea)</td>\n",
       "      <td>2017.0</td>\n",
       "      <td>No</td>\n",
       "      <td>0.0</td>\n",
       "      <td>Y</td>\n",
       "      <td>09/27/2017 08:36:00 PM</td>\n",
       "    </tr>\n",
       "    <tr>\n",
       "      <th>2</th>\n",
       "      <td>8405.0</td>\n",
       "      <td>South Lake Union</td>\n",
       "      <td>North</td>\n",
       "      <td>9/27/2017 20:00</td>\n",
       "      <td>W</td>\n",
       "      <td>8TH AVE N BETWEEN VALLEY ST AND ALOHA ST</td>\n",
       "      <td>NaN</td>\n",
       "      <td>7.0</td>\n",
       "      <td>4.0</td>\n",
       "      <td>NaN</td>\n",
       "      <td>...</td>\n",
       "      <td>NaN</td>\n",
       "      <td>NaN</td>\n",
       "      <td>No</td>\n",
       "      <td>No</td>\n",
       "      <td>South Lake Union (North Subarea)</td>\n",
       "      <td>2017.0</td>\n",
       "      <td>No</td>\n",
       "      <td>0.0</td>\n",
       "      <td>Y</td>\n",
       "      <td>09/27/2017 08:36:00 PM</td>\n",
       "    </tr>\n",
       "    <tr>\n",
       "      <th>3</th>\n",
       "      <td>8406.0</td>\n",
       "      <td>South Lake Union</td>\n",
       "      <td>North</td>\n",
       "      <td>9/27/2017 20:00</td>\n",
       "      <td>E</td>\n",
       "      <td>8TH AVE N BETWEEN VALLEY ST AND ALOHA ST</td>\n",
       "      <td>NaN</td>\n",
       "      <td>10.0</td>\n",
       "      <td>5.0</td>\n",
       "      <td>NaN</td>\n",
       "      <td>...</td>\n",
       "      <td>NaN</td>\n",
       "      <td>NaN</td>\n",
       "      <td>No</td>\n",
       "      <td>No</td>\n",
       "      <td>South Lake Union (North Subarea)</td>\n",
       "      <td>2017.0</td>\n",
       "      <td>No</td>\n",
       "      <td>0.0</td>\n",
       "      <td>Y</td>\n",
       "      <td>09/27/2017 08:36:00 PM</td>\n",
       "    </tr>\n",
       "    <tr>\n",
       "      <th>4</th>\n",
       "      <td>8625.0</td>\n",
       "      <td>South Lake Union</td>\n",
       "      <td>North</td>\n",
       "      <td>9/27/2017 20:00</td>\n",
       "      <td>W</td>\n",
       "      <td>9TH AVE N BETWEEN BROAD E ST AND WESTLAKE AVE N</td>\n",
       "      <td>NaN</td>\n",
       "      <td>0.0</td>\n",
       "      <td>0.0</td>\n",
       "      <td>NaN</td>\n",
       "      <td>...</td>\n",
       "      <td>NaN</td>\n",
       "      <td>NaN</td>\n",
       "      <td>No</td>\n",
       "      <td>No</td>\n",
       "      <td>South Lake Union (North Subarea)</td>\n",
       "      <td>2017.0</td>\n",
       "      <td>No</td>\n",
       "      <td>0.0</td>\n",
       "      <td>Y</td>\n",
       "      <td>09/27/2017 08:32:00 PM</td>\n",
       "    </tr>\n",
       "  </tbody>\n",
       "</table>\n",
       "<p>5 rows × 24 columns</p>\n",
       "</div>"
      ],
      "text/plain": [
       "   Elmntkey        Study_Area Sub_Area        Date Time Side  \\\n",
       "0   77982.0  South Lake Union    North  9/27/2017 20:00    E   \n",
       "1   35881.0  South Lake Union    North  9/27/2017 20:00    N   \n",
       "2    8405.0  South Lake Union    North  9/27/2017 20:00    W   \n",
       "3    8406.0  South Lake Union    North  9/27/2017 20:00    E   \n",
       "4    8625.0  South Lake Union    North  9/27/2017 20:00    W   \n",
       "\n",
       "                                          Unitdesc Peak Hour_SDOT  \\\n",
       "0      DEXTER AVE N BETWEEN VALLEY ST AND ALOHA ST            NaN   \n",
       "1     VALLEY ST BETWEEN DEXTER AVE N AND 8TH AVE N            NaN   \n",
       "2         8TH AVE N BETWEEN VALLEY ST AND ALOHA ST            NaN   \n",
       "3         8TH AVE N BETWEEN VALLEY ST AND ALOHA ST            NaN   \n",
       "4  9TH AVE N BETWEEN BROAD E ST AND WESTLAKE AVE N            NaN   \n",
       "\n",
       "   Parking_Spaces  Total_Vehicle_Count  Dp_Count  ...  Idling  Field Notes  \\\n",
       "0             2.0                  3.0       NaN  ...     NaN          NaN   \n",
       "1            15.0                 12.0       1.0  ...     NaN          NaN   \n",
       "2             7.0                  4.0       NaN  ...     NaN          NaN   \n",
       "3            10.0                  5.0       NaN  ...     NaN          NaN   \n",
       "4             0.0                  0.0       NaN  ...     NaN          NaN   \n",
       "\n",
       "   Construction  Event Closure                     Subarea Label Study Year  \\\n",
       "0            No             No  South Lake Union (North Subarea)     2017.0   \n",
       "1            No             No  South Lake Union (North Subarea)     2017.0   \n",
       "2            No             No  South Lake Union (North Subarea)     2017.0   \n",
       "3            No             No  South Lake Union (North Subarea)     2017.0   \n",
       "4            No             No  South Lake Union (North Subarea)     2017.0   \n",
       "\n",
       "  Peak Hour? (Yes or No) RPZ Blocks CSM              Time Stamp  \n",
       "0                     No        0.0   Y  09/27/2017 08:38:00 PM  \n",
       "1                     No        0.0   Y  09/27/2017 08:36:00 PM  \n",
       "2                     No        0.0   Y  09/27/2017 08:36:00 PM  \n",
       "3                     No        0.0   Y  09/27/2017 08:36:00 PM  \n",
       "4                     No        0.0   Y  09/27/2017 08:32:00 PM  \n",
       "\n",
       "[5 rows x 24 columns]"
      ]
     },
     "execution_count": 46,
     "metadata": {},
     "output_type": "execute_result"
    }
   ],
   "source": [
    "df = pd.read_csv('Annual_Parking_Study_Data.csv')\n",
    "df.head()"
   ]
  },
  {
   "cell_type": "code",
   "execution_count": 47,
   "metadata": {},
   "outputs": [
    {
     "data": {
      "text/plain": [
       "Index(['Elmntkey', 'Study_Area', 'Sub_Area', 'Date Time', 'Side', 'Unitdesc',\n",
       "       'Peak Hour_SDOT', 'Parking_Spaces', 'Total_Vehicle_Count', 'Dp_Count',\n",
       "       'Rpz_Count', 'TG_Car2Go', 'BMW_DN', 'Lime', 'Idling', 'Field Notes',\n",
       "       'Construction', 'Event Closure', 'Subarea Label', 'Study Year',\n",
       "       'Peak Hour? (Yes or No)', 'RPZ Blocks', 'CSM', 'Time Stamp'],\n",
       "      dtype='object')"
      ]
     },
     "execution_count": 47,
     "metadata": {},
     "output_type": "execute_result"
    }
   ],
   "source": [
    "df.columns"
   ]
  },
  {
   "cell_type": "code",
   "execution_count": 48,
   "metadata": {},
   "outputs": [
    {
     "data": {
      "text/html": [
       "<div>\n",
       "<style scoped>\n",
       "    .dataframe tbody tr th:only-of-type {\n",
       "        vertical-align: middle;\n",
       "    }\n",
       "\n",
       "    .dataframe tbody tr th {\n",
       "        vertical-align: top;\n",
       "    }\n",
       "\n",
       "    .dataframe thead th {\n",
       "        text-align: right;\n",
       "    }\n",
       "</style>\n",
       "<table border=\"1\" class=\"dataframe\">\n",
       "  <thead>\n",
       "    <tr style=\"text-align: right;\">\n",
       "      <th></th>\n",
       "      <th>Study_Area</th>\n",
       "      <th>Sub_Area</th>\n",
       "      <th>Date Time</th>\n",
       "      <th>Side</th>\n",
       "      <th>Parking_Spaces</th>\n",
       "      <th>Time Stamp</th>\n",
       "    </tr>\n",
       "  </thead>\n",
       "  <tbody>\n",
       "    <tr>\n",
       "      <th>0</th>\n",
       "      <td>South Lake Union</td>\n",
       "      <td>North</td>\n",
       "      <td>9/27/2017 20:00</td>\n",
       "      <td>E</td>\n",
       "      <td>2.0</td>\n",
       "      <td>09/27/2017 08:38:00 PM</td>\n",
       "    </tr>\n",
       "    <tr>\n",
       "      <th>1</th>\n",
       "      <td>South Lake Union</td>\n",
       "      <td>North</td>\n",
       "      <td>9/27/2017 20:00</td>\n",
       "      <td>N</td>\n",
       "      <td>15.0</td>\n",
       "      <td>09/27/2017 08:36:00 PM</td>\n",
       "    </tr>\n",
       "    <tr>\n",
       "      <th>2</th>\n",
       "      <td>South Lake Union</td>\n",
       "      <td>North</td>\n",
       "      <td>9/27/2017 20:00</td>\n",
       "      <td>W</td>\n",
       "      <td>7.0</td>\n",
       "      <td>09/27/2017 08:36:00 PM</td>\n",
       "    </tr>\n",
       "    <tr>\n",
       "      <th>3</th>\n",
       "      <td>South Lake Union</td>\n",
       "      <td>North</td>\n",
       "      <td>9/27/2017 20:00</td>\n",
       "      <td>E</td>\n",
       "      <td>10.0</td>\n",
       "      <td>09/27/2017 08:36:00 PM</td>\n",
       "    </tr>\n",
       "    <tr>\n",
       "      <th>4</th>\n",
       "      <td>South Lake Union</td>\n",
       "      <td>North</td>\n",
       "      <td>9/27/2017 20:00</td>\n",
       "      <td>W</td>\n",
       "      <td>0.0</td>\n",
       "      <td>09/27/2017 08:32:00 PM</td>\n",
       "    </tr>\n",
       "  </tbody>\n",
       "</table>\n",
       "</div>"
      ],
      "text/plain": [
       "         Study_Area Sub_Area        Date Time Side  Parking_Spaces  \\\n",
       "0  South Lake Union    North  9/27/2017 20:00    E             2.0   \n",
       "1  South Lake Union    North  9/27/2017 20:00    N            15.0   \n",
       "2  South Lake Union    North  9/27/2017 20:00    W             7.0   \n",
       "3  South Lake Union    North  9/27/2017 20:00    E            10.0   \n",
       "4  South Lake Union    North  9/27/2017 20:00    W             0.0   \n",
       "\n",
       "               Time Stamp  \n",
       "0  09/27/2017 08:38:00 PM  \n",
       "1  09/27/2017 08:36:00 PM  \n",
       "2  09/27/2017 08:36:00 PM  \n",
       "3  09/27/2017 08:36:00 PM  \n",
       "4  09/27/2017 08:32:00 PM  "
      ]
     },
     "execution_count": 48,
     "metadata": {},
     "output_type": "execute_result"
    }
   ],
   "source": [
    "df1 = df.drop(['Elmntkey', 'Unitdesc','Peak Hour_SDOT', 'Total_Vehicle_Count', 'Dp_Count', 'Rpz_Count', 'TG_Car2Go', 'BMW_DN', 'Lime', 'Idling', 'Field Notes',\n",
    "       'Construction', 'Event Closure', 'Subarea Label', 'Study Year', 'Peak Hour? (Yes or No)', 'RPZ Blocks', 'CSM',], axis='columns')\n",
    "df1.head()"
   ]
  },
  {
   "cell_type": "code",
   "execution_count": 49,
   "metadata": {},
   "outputs": [
    {
     "data": {
      "text/plain": [
       "Study_Area         object\n",
       "Sub_Area           object\n",
       "Date Time          object\n",
       "Side               object\n",
       "Parking_Spaces    float64\n",
       "Time Stamp         object\n",
       "dtype: object"
      ]
     },
     "execution_count": 49,
     "metadata": {},
     "output_type": "execute_result"
    }
   ],
   "source": [
    "df1.dtypes"
   ]
  },
  {
   "cell_type": "code",
   "execution_count": 103,
   "metadata": {},
   "outputs": [
    {
     "data": {
      "text/html": [
       "<div>\n",
       "<style scoped>\n",
       "    .dataframe tbody tr th:only-of-type {\n",
       "        vertical-align: middle;\n",
       "    }\n",
       "\n",
       "    .dataframe tbody tr th {\n",
       "        vertical-align: top;\n",
       "    }\n",
       "\n",
       "    .dataframe thead th {\n",
       "        text-align: right;\n",
       "    }\n",
       "</style>\n",
       "<table border=\"1\" class=\"dataframe\">\n",
       "  <thead>\n",
       "    <tr style=\"text-align: right;\">\n",
       "      <th></th>\n",
       "      <th>Study_Area</th>\n",
       "      <th>Sub_Area</th>\n",
       "      <th>Date Time</th>\n",
       "      <th>Side</th>\n",
       "    </tr>\n",
       "  </thead>\n",
       "  <tbody>\n",
       "    <tr>\n",
       "      <th>0</th>\n",
       "      <td>South Lake Union</td>\n",
       "      <td>North</td>\n",
       "      <td>9/27/2017 20:00</td>\n",
       "      <td>E</td>\n",
       "    </tr>\n",
       "    <tr>\n",
       "      <th>1</th>\n",
       "      <td>South Lake Union</td>\n",
       "      <td>North</td>\n",
       "      <td>9/27/2017 20:00</td>\n",
       "      <td>N</td>\n",
       "    </tr>\n",
       "    <tr>\n",
       "      <th>2</th>\n",
       "      <td>South Lake Union</td>\n",
       "      <td>North</td>\n",
       "      <td>9/27/2017 20:00</td>\n",
       "      <td>W</td>\n",
       "    </tr>\n",
       "    <tr>\n",
       "      <th>3</th>\n",
       "      <td>South Lake Union</td>\n",
       "      <td>North</td>\n",
       "      <td>9/27/2017 20:00</td>\n",
       "      <td>E</td>\n",
       "    </tr>\n",
       "    <tr>\n",
       "      <th>4</th>\n",
       "      <td>South Lake Union</td>\n",
       "      <td>North</td>\n",
       "      <td>9/27/2017 20:00</td>\n",
       "      <td>W</td>\n",
       "    </tr>\n",
       "  </tbody>\n",
       "</table>\n",
       "</div>"
      ],
      "text/plain": [
       "         Study_Area Sub_Area        Date Time Side\n",
       "0  South Lake Union    North  9/27/2017 20:00    E\n",
       "1  South Lake Union    North  9/27/2017 20:00    N\n",
       "2  South Lake Union    North  9/27/2017 20:00    W\n",
       "3  South Lake Union    North  9/27/2017 20:00    E\n",
       "4  South Lake Union    North  9/27/2017 20:00    W"
      ]
     },
     "execution_count": 103,
     "metadata": {},
     "output_type": "execute_result"
    }
   ],
   "source": [
    "df2 = df1.drop(['Time Stamp', 'Parking_Spaces'], axis='columns')\n",
    "df2.head()"
   ]
  },
  {
   "cell_type": "code",
   "execution_count": 104,
   "metadata": {},
   "outputs": [
    {
     "data": {
      "text/html": [
       "<div>\n",
       "<style scoped>\n",
       "    .dataframe tbody tr th:only-of-type {\n",
       "        vertical-align: middle;\n",
       "    }\n",
       "\n",
       "    .dataframe tbody tr th {\n",
       "        vertical-align: top;\n",
       "    }\n",
       "\n",
       "    .dataframe thead th {\n",
       "        text-align: right;\n",
       "    }\n",
       "</style>\n",
       "<table border=\"1\" class=\"dataframe\">\n",
       "  <thead>\n",
       "    <tr style=\"text-align: right;\">\n",
       "      <th></th>\n",
       "      <th>Study_Area</th>\n",
       "      <th>Sub_Area</th>\n",
       "      <th>Date_Time</th>\n",
       "      <th>Side</th>\n",
       "    </tr>\n",
       "  </thead>\n",
       "  <tbody>\n",
       "    <tr>\n",
       "      <th>0</th>\n",
       "      <td>South Lake Union</td>\n",
       "      <td>North</td>\n",
       "      <td>9/27/2017 20:00</td>\n",
       "      <td>E</td>\n",
       "    </tr>\n",
       "    <tr>\n",
       "      <th>1</th>\n",
       "      <td>South Lake Union</td>\n",
       "      <td>North</td>\n",
       "      <td>9/27/2017 20:00</td>\n",
       "      <td>N</td>\n",
       "    </tr>\n",
       "    <tr>\n",
       "      <th>2</th>\n",
       "      <td>South Lake Union</td>\n",
       "      <td>North</td>\n",
       "      <td>9/27/2017 20:00</td>\n",
       "      <td>W</td>\n",
       "    </tr>\n",
       "    <tr>\n",
       "      <th>3</th>\n",
       "      <td>South Lake Union</td>\n",
       "      <td>North</td>\n",
       "      <td>9/27/2017 20:00</td>\n",
       "      <td>E</td>\n",
       "    </tr>\n",
       "    <tr>\n",
       "      <th>4</th>\n",
       "      <td>South Lake Union</td>\n",
       "      <td>North</td>\n",
       "      <td>9/27/2017 20:00</td>\n",
       "      <td>W</td>\n",
       "    </tr>\n",
       "  </tbody>\n",
       "</table>\n",
       "</div>"
      ],
      "text/plain": [
       "         Study_Area Sub_Area        Date_Time Side\n",
       "0  South Lake Union    North  9/27/2017 20:00    E\n",
       "1  South Lake Union    North  9/27/2017 20:00    N\n",
       "2  South Lake Union    North  9/27/2017 20:00    W\n",
       "3  South Lake Union    North  9/27/2017 20:00    E\n",
       "4  South Lake Union    North  9/27/2017 20:00    W"
      ]
     },
     "execution_count": 104,
     "metadata": {},
     "output_type": "execute_result"
    }
   ],
   "source": [
    "df2.rename(columns = {'Date Time' : 'Date_Time'}, inplace = True)\n",
    "df2.head()"
   ]
  },
  {
   "cell_type": "code",
   "execution_count": 105,
   "metadata": {},
   "outputs": [
    {
     "data": {
      "text/plain": [
       "(167799, 4)"
      ]
     },
     "execution_count": 105,
     "metadata": {},
     "output_type": "execute_result"
    }
   ],
   "source": [
    "df2.shape"
   ]
  },
  {
   "cell_type": "code",
   "execution_count": 106,
   "metadata": {},
   "outputs": [
    {
     "data": {
      "text/plain": [
       "array(['South Lake Union', '12th Avenue', 'SODO', 'Ballard Locks',\n",
       "       'Ballard Locks Summer', 'Ballard Locks summer', 'Pioneer Square',\n",
       "       'Cherry Hill', 'Uptown', 'First Hill', 'Commercial Core - Retail',\n",
       "       'Commercial Core - Waterfront', 'Commercial Core - Financial',\n",
       "       'Fremont', 'Uptown Triangle', 'Green Lake', 'Capitol Hill',\n",
       "       'Westlake', 'Pike-Pine', 'Commercial Core Retail',\n",
       "       'Commercial Core Financial', 'Commercial Core Waterfront',\n",
       "       'Commercial Core', 'Belltown', 'University District', 'Ballard',\n",
       "       'Roosevelt', 'Chinatown/ID', 'Ballard Locks Spring',\n",
       "       'Pioneer Square 2017', 'Denny Triangle',\n",
       "       '12th Ave 2017 Annual Study', 'Chinatown ID 2017',\n",
       "       'Ballard Locks Spring 2017', 'Denny Triangle South - 2017',\n",
       "       'Denny Triangle North - 2017', 'Greenlake', 'Denny Triangle South',\n",
       "       'Denny Triangle North', '12th Ave - Weekday', 'Ballard - Weekday',\n",
       "       'First Hill - Weekday', 'Ballard Locks - Weekday (Spring)',\n",
       "       'Belltown - Weekday', 'Ballard Locks - Weekday (Summer)',\n",
       "       'Capitol Hill - Weekday', 'Chinatown/ID - Event',\n",
       "       'Cherry Hill - Weekday', 'Chinatown/ID - Sunday',\n",
       "       'Denny Triangle - Weekday', 'Chinatown/ID - Weekday',\n",
       "       'Commercial Core - Event Day', 'Commercial Core - Weekday',\n",
       "       'Fremont - Weekday', 'Little Saigon - Weekday',\n",
       "       'Green Lake - Weekday', 'Little Saigon - Sunday',\n",
       "       'Pike-Pine - Weekday', 'Uptown Triangle - Weekday',\n",
       "       'Pioneer Square - Event Day', 'Uptown - Weekday',\n",
       "       'Pioneer Square - Weekday', 'Roosevelt - Weekday',\n",
       "       'Pioneer Square - Sunday', 'South Lake Union - Weekday',\n",
       "       'University District - Weekday', 'Westlake - Weekday',\n",
       "       'Columbia City', '15th Avenue', 'Dexter', nan, 'Lake City',\n",
       "       'Uptown - Sunday', 'West Seattle', 'Commercial Core Saturday',\n",
       "       '12th Ave'], dtype=object)"
      ]
     },
     "execution_count": 106,
     "metadata": {},
     "output_type": "execute_result"
    }
   ],
   "source": [
    "df2.Study_Area.unique()"
   ]
  },
  {
   "cell_type": "code",
   "execution_count": 107,
   "metadata": {},
   "outputs": [
    {
     "data": {
      "text/plain": [
       "array(['North', 'Unpaid', nan, 'PAID', 'Edge', 'Core', 'South', 'Retail',\n",
       "       'Waterfront', 'Financial', 'Paid', 'RPZ', 'Non-RPZ', 'ERROR: #N/A',\n",
       "       'UNPAID', 'Periphery', '2 Hour', '10 Hour', 'NorthWest', '2', '10',\n",
       "       '0', '4 Hour', 'Edge Unpaid', 'South 10 hr', 'South 2 hr'],\n",
       "      dtype=object)"
      ]
     },
     "execution_count": 107,
     "metadata": {},
     "output_type": "execute_result"
    }
   ],
   "source": [
    "df2.Sub_Area.unique()"
   ]
  },
  {
   "cell_type": "code",
   "execution_count": 108,
   "metadata": {},
   "outputs": [
    {
     "data": {
      "text/plain": [
       "array(['E', 'N', 'W', 'SW', 'S', 'SE', 'NW', 'NE', nan], dtype=object)"
      ]
     },
     "execution_count": 108,
     "metadata": {},
     "output_type": "execute_result"
    }
   ],
   "source": [
    "df2.Side.unique()"
   ]
  },
  {
   "cell_type": "code",
   "execution_count": 109,
   "metadata": {},
   "outputs": [
    {
     "data": {
      "text/plain": [
       "array(['9/27/2017 20:00', '9/27/2017 19:00', '9/27/2017 18:00', ...,\n",
       "       '7/16/2019 18:00', '7/16/2019 19:00', '7/16/2019 20:00'],\n",
       "      dtype=object)"
      ]
     },
     "execution_count": 109,
     "metadata": {},
     "output_type": "execute_result"
    }
   ],
   "source": [
    "df2.Date_Time.unique()"
   ]
  },
  {
   "cell_type": "code",
   "execution_count": 110,
   "metadata": {},
   "outputs": [
    {
     "data": {
      "text/plain": [
       "Study_Area     True\n",
       "Sub_Area       True\n",
       "Date_Time     False\n",
       "Side           True\n",
       "dtype: bool"
      ]
     },
     "execution_count": 110,
     "metadata": {},
     "output_type": "execute_result"
    }
   ],
   "source": [
    "df2.isnull().any()"
   ]
  },
  {
   "cell_type": "code",
   "execution_count": 111,
   "metadata": {},
   "outputs": [
    {
     "data": {
      "text/plain": [
       "Study_Area       26\n",
       "Sub_Area      13180\n",
       "Date_Time         0\n",
       "Side             39\n",
       "dtype: int64"
      ]
     },
     "execution_count": 111,
     "metadata": {},
     "output_type": "execute_result"
    }
   ],
   "source": [
    "df2.isnull().sum()"
   ]
  },
  {
   "cell_type": "code",
   "execution_count": 112,
   "metadata": {},
   "outputs": [
    {
     "data": {
      "text/plain": [
       "array(['9/27/2017 20:00', '9/27/2017 19:00', '9/27/2017 18:00', ...,\n",
       "       '7/16/2019 18:00', '7/16/2019 19:00', '7/16/2019 20:00'],\n",
       "      dtype=object)"
      ]
     },
     "execution_count": 112,
     "metadata": {},
     "output_type": "execute_result"
    }
   ],
   "source": [
    "df2.Date_Time.unique()"
   ]
  },
  {
   "cell_type": "code",
   "execution_count": 113,
   "metadata": {},
   "outputs": [
    {
     "data": {
      "text/html": [
       "<div>\n",
       "<style scoped>\n",
       "    .dataframe tbody tr th:only-of-type {\n",
       "        vertical-align: middle;\n",
       "    }\n",
       "\n",
       "    .dataframe tbody tr th {\n",
       "        vertical-align: top;\n",
       "    }\n",
       "\n",
       "    .dataframe thead th {\n",
       "        text-align: right;\n",
       "    }\n",
       "</style>\n",
       "<table border=\"1\" class=\"dataframe\">\n",
       "  <thead>\n",
       "    <tr style=\"text-align: right;\">\n",
       "      <th></th>\n",
       "      <th>Parking_Spaces</th>\n",
       "    </tr>\n",
       "  </thead>\n",
       "  <tbody>\n",
       "    <tr>\n",
       "      <th>0</th>\n",
       "      <td>2</td>\n",
       "    </tr>\n",
       "    <tr>\n",
       "      <th>1</th>\n",
       "      <td>15</td>\n",
       "    </tr>\n",
       "    <tr>\n",
       "      <th>2</th>\n",
       "      <td>7</td>\n",
       "    </tr>\n",
       "    <tr>\n",
       "      <th>3</th>\n",
       "      <td>10</td>\n",
       "    </tr>\n",
       "    <tr>\n",
       "      <th>4</th>\n",
       "      <td>0</td>\n",
       "    </tr>\n",
       "  </tbody>\n",
       "</table>\n",
       "</div>"
      ],
      "text/plain": [
       "   Parking_Spaces\n",
       "0               2\n",
       "1              15\n",
       "2               7\n",
       "3              10\n",
       "4               0"
      ]
     },
     "execution_count": 113,
     "metadata": {},
     "output_type": "execute_result"
    }
   ],
   "source": [
    "df3 = df1.drop(['Study_Area', 'Date Time', 'Sub_Area', 'Side', 'Time Stamp'], axis='columns')\n",
    "df3.head().astype(int)"
   ]
  },
  {
   "cell_type": "code",
   "execution_count": 114,
   "metadata": {},
   "outputs": [
    {
     "data": {
      "text/plain": [
       "array([  2.,  15.,   7.,  10.,   0.,   9.,  25.,  14.,  12.,   6.,   4.,\n",
       "        11.,   5.,   8.,  19.,  28.,  27.,  23.,  16.,   3.,  13.,  20.,\n",
       "        40.,  44.,  34.,  31.,  45.,  42.,  21.,  70.,  17.,  81.,   1.,\n",
       "        18.,  26.,  59.,  22.,  29.,  33.,  24.,  54.,  36., 120.,  53.,\n",
       "        30.,  41.,  37.,  39.,  49.,  32.,  38.,  nan,  35.,  47.,  50.,\n",
       "        52.,  65., 112.,  94.,  48.,  91.,  56.])"
      ]
     },
     "execution_count": 114,
     "metadata": {},
     "output_type": "execute_result"
    }
   ],
   "source": [
    "df3.Parking_Spaces.unique()"
   ]
  },
  {
   "cell_type": "code",
   "execution_count": 115,
   "metadata": {},
   "outputs": [
    {
     "data": {
      "text/plain": [
       "Parking_Spaces    True\n",
       "dtype: bool"
      ]
     },
     "execution_count": 115,
     "metadata": {},
     "output_type": "execute_result"
    }
   ],
   "source": [
    "df3.isnull().any()"
   ]
  },
  {
   "cell_type": "code",
   "execution_count": 116,
   "metadata": {},
   "outputs": [
    {
     "data": {
      "text/plain": [
       "Parking_Spaces    298\n",
       "dtype: int64"
      ]
     },
     "execution_count": 116,
     "metadata": {},
     "output_type": "execute_result"
    }
   ],
   "source": [
    "df3.isnull().sum()"
   ]
  },
  {
   "cell_type": "code",
   "execution_count": 125,
   "metadata": {},
   "outputs": [],
   "source": [
    "# study_area_l = LabelEncoder()\n",
    "# sub_area_l = LabelEncoder()\n",
    "# side_l = LabelEncoder()\n",
    "date_time_l = LabelEncoder()"
   ]
  },
  {
   "cell_type": "code",
   "execution_count": 127,
   "metadata": {},
   "outputs": [
    {
     "data": {
      "text/html": [
       "<div>\n",
       "<style scoped>\n",
       "    .dataframe tbody tr th:only-of-type {\n",
       "        vertical-align: middle;\n",
       "    }\n",
       "\n",
       "    .dataframe tbody tr th {\n",
       "        vertical-align: top;\n",
       "    }\n",
       "\n",
       "    .dataframe thead th {\n",
       "        text-align: right;\n",
       "    }\n",
       "</style>\n",
       "<table border=\"1\" class=\"dataframe\">\n",
       "  <thead>\n",
       "    <tr style=\"text-align: right;\">\n",
       "      <th></th>\n",
       "      <th>Study_Area</th>\n",
       "      <th>Sub_Area</th>\n",
       "      <th>Date_Time</th>\n",
       "      <th>Side</th>\n",
       "      <th>date_time</th>\n",
       "    </tr>\n",
       "  </thead>\n",
       "  <tbody>\n",
       "    <tr>\n",
       "      <th>0</th>\n",
       "      <td>South Lake Union</td>\n",
       "      <td>North</td>\n",
       "      <td>9/27/2017 20:00</td>\n",
       "      <td>E</td>\n",
       "      <td>1796</td>\n",
       "    </tr>\n",
       "    <tr>\n",
       "      <th>1</th>\n",
       "      <td>South Lake Union</td>\n",
       "      <td>North</td>\n",
       "      <td>9/27/2017 20:00</td>\n",
       "      <td>N</td>\n",
       "      <td>1796</td>\n",
       "    </tr>\n",
       "    <tr>\n",
       "      <th>2</th>\n",
       "      <td>South Lake Union</td>\n",
       "      <td>North</td>\n",
       "      <td>9/27/2017 20:00</td>\n",
       "      <td>W</td>\n",
       "      <td>1796</td>\n",
       "    </tr>\n",
       "    <tr>\n",
       "      <th>3</th>\n",
       "      <td>South Lake Union</td>\n",
       "      <td>North</td>\n",
       "      <td>9/27/2017 20:00</td>\n",
       "      <td>E</td>\n",
       "      <td>1796</td>\n",
       "    </tr>\n",
       "    <tr>\n",
       "      <th>4</th>\n",
       "      <td>South Lake Union</td>\n",
       "      <td>North</td>\n",
       "      <td>9/27/2017 20:00</td>\n",
       "      <td>W</td>\n",
       "      <td>1796</td>\n",
       "    </tr>\n",
       "  </tbody>\n",
       "</table>\n",
       "</div>"
      ],
      "text/plain": [
       "         Study_Area Sub_Area        Date_Time Side  date_time\n",
       "0  South Lake Union    North  9/27/2017 20:00    E       1796\n",
       "1  South Lake Union    North  9/27/2017 20:00    N       1796\n",
       "2  South Lake Union    North  9/27/2017 20:00    W       1796\n",
       "3  South Lake Union    North  9/27/2017 20:00    E       1796\n",
       "4  South Lake Union    North  9/27/2017 20:00    W       1796"
      ]
     },
     "execution_count": 127,
     "metadata": {},
     "output_type": "execute_result"
    }
   ],
   "source": [
    "# df2['study_area'] = study_area_l.fit_transform(df2['Study_Area'])\n",
    "# df2['sub_area'] = sub_area_l.fit_transform(df2['Sub_Area'])\n",
    "# df2['side'] = side_l.fit_transform(df2['Side'])\n",
    "df2['date_time'] = date_time_l.fit_transform(df2['Date_Time'])\n",
    "df2.head()"
   ]
  },
  {
   "cell_type": "code",
   "execution_count": 128,
   "metadata": {},
   "outputs": [
    {
     "data": {
      "text/html": [
       "<div>\n",
       "<style scoped>\n",
       "    .dataframe tbody tr th:only-of-type {\n",
       "        vertical-align: middle;\n",
       "    }\n",
       "\n",
       "    .dataframe tbody tr th {\n",
       "        vertical-align: top;\n",
       "    }\n",
       "\n",
       "    .dataframe thead th {\n",
       "        text-align: right;\n",
       "    }\n",
       "</style>\n",
       "<table border=\"1\" class=\"dataframe\">\n",
       "  <thead>\n",
       "    <tr style=\"text-align: right;\">\n",
       "      <th></th>\n",
       "      <th>date_time</th>\n",
       "    </tr>\n",
       "  </thead>\n",
       "  <tbody>\n",
       "    <tr>\n",
       "      <th>count</th>\n",
       "      <td>167799.000000</td>\n",
       "    </tr>\n",
       "    <tr>\n",
       "      <th>mean</th>\n",
       "      <td>843.714134</td>\n",
       "    </tr>\n",
       "    <tr>\n",
       "      <th>std</th>\n",
       "      <td>498.752954</td>\n",
       "    </tr>\n",
       "    <tr>\n",
       "      <th>min</th>\n",
       "      <td>0.000000</td>\n",
       "    </tr>\n",
       "    <tr>\n",
       "      <th>25%</th>\n",
       "      <td>373.000000</td>\n",
       "    </tr>\n",
       "    <tr>\n",
       "      <th>50%</th>\n",
       "      <td>824.000000</td>\n",
       "    </tr>\n",
       "    <tr>\n",
       "      <th>75%</th>\n",
       "      <td>1262.000000</td>\n",
       "    </tr>\n",
       "    <tr>\n",
       "      <th>max</th>\n",
       "      <td>1798.000000</td>\n",
       "    </tr>\n",
       "  </tbody>\n",
       "</table>\n",
       "</div>"
      ],
      "text/plain": [
       "           date_time\n",
       "count  167799.000000\n",
       "mean      843.714134\n",
       "std       498.752954\n",
       "min         0.000000\n",
       "25%       373.000000\n",
       "50%       824.000000\n",
       "75%      1262.000000\n",
       "max      1798.000000"
      ]
     },
     "execution_count": 128,
     "metadata": {},
     "output_type": "execute_result"
    }
   ],
   "source": [
    "df2.describe()"
   ]
  }
 ],
 "metadata": {
  "kernelspec": {
   "display_name": "Python 3",
   "language": "python",
   "name": "python3"
  },
  "language_info": {
   "codemirror_mode": {
    "name": "ipython",
    "version": 3
   },
   "file_extension": ".py",
   "mimetype": "text/x-python",
   "name": "python",
   "nbconvert_exporter": "python",
   "pygments_lexer": "ipython3",
   "version": "3.8.5"
  }
 },
 "nbformat": 4,
 "nbformat_minor": 4
}
